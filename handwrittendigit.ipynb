{
  "nbformat": 4,
  "nbformat_minor": 0,
  "metadata": {
    "colab": {
      "provenance": [],
      "authorship_tag": "ABX9TyPsPj9kKh1WuMMTPb91xske",
      "include_colab_link": true
    },
    "kernelspec": {
      "name": "python3",
      "display_name": "Python 3"
    },
    "language_info": {
      "name": "python"
    }
  },
  "cells": [
    {
      "cell_type": "markdown",
      "metadata": {
        "id": "view-in-github",
        "colab_type": "text"
      },
      "source": [
        "<a href=\"https://colab.research.google.com/github/sejaltalwarr/sejaltalwar/blob/main/handwrittendigit.ipynb\" target=\"_parent\"><img src=\"https://colab.research.google.com/assets/colab-badge.svg\" alt=\"Open In Colab\"/></a>"
      ]
    },
    {
      "cell_type": "markdown",
      "source": [
        "## **Handwritten digit analysis**"
      ],
      "metadata": {
        "id": "TsfQROrYLInK"
      }
    },
    {
      "cell_type": "markdown",
      "source": [
        "**Objective**\n",
        "\n",
        "The objective of a handwritten digit analysis project typically involves developing a machine learning model that can accurately classify and analyze handwritten digits. The specific objectives may include:\n",
        "\n",
        "1. Classification: Building a model that can correctly identify and classify handwritten digits into their respective classes\n",
        "\n",
        "2. Accuracy Improvement: Improving the accuracy of the model to achieve high performance in digit recognition.\n",
        "\n",
        "3. Generalization: Creating a model that can generalize well and accurately classify digits that it has not encountered during training.\n",
        "\n",
        "4. Robustness: Ensuring that the model can handle variations in handwriting styles, different writing instruments, and noise in the input data.\n",
        "\n",
        "5. Real-Time Analysis: Optimizing the model for efficient inference to perform real-time analysis and recognition of handwritten digits.\n",
        "\n",
        "The ultimate goal of the project is to create a reliable and accurate system that can analyze handwritten digits, enabling applications such as digit recognition, optical character recognition (OCR), digit-based data entry, and more."
      ],
      "metadata": {
        "id": "HTRfPzNRc5Do"
      }
    },
    {
      "cell_type": "markdown",
      "source": [
        "**Importing libraries**"
      ],
      "metadata": {
        "id": "R2bjL9cSLYS_"
      }
    },
    {
      "cell_type": "code",
      "source": [
        "import pandas as pd"
      ],
      "metadata": {
        "id": "EhdHEteULhW0"
      },
      "execution_count": 1,
      "outputs": []
    },
    {
      "cell_type": "code",
      "source": [
        "import numpy as np"
      ],
      "metadata": {
        "id": "Frgt6ghOLn3G"
      },
      "execution_count": 2,
      "outputs": []
    },
    {
      "cell_type": "code",
      "source": [
        "import matplotlib.pyplot as plt"
      ],
      "metadata": {
        "id": "H0tNDDTMLqux"
      },
      "execution_count": 3,
      "outputs": []
    },
    {
      "cell_type": "code",
      "source": [
        "import seaborn as sns"
      ],
      "metadata": {
        "id": "9x-S3LBmbKvR"
      },
      "execution_count": 73,
      "outputs": []
    },
    {
      "cell_type": "markdown",
      "source": [
        "**Importing data**"
      ],
      "metadata": {
        "id": "siEumoPpMoYj"
      }
    },
    {
      "cell_type": "code",
      "source": [
        "from sklearn.datasets import load_digits"
      ],
      "metadata": {
        "id": "ArvlXkfDMs7a"
      },
      "execution_count": 4,
      "outputs": []
    },
    {
      "cell_type": "code",
      "source": [
        "df = load_digits()"
      ],
      "metadata": {
        "id": "Kj0q3hshM59v"
      },
      "execution_count": 5,
      "outputs": []
    },
    {
      "cell_type": "code",
      "source": [
        "label=42\n",
        "_, axes = plt.subplots(nrows=1, ncols=4, figsize=(10, 3))\n",
        "for ax, image, Tabel in zip(axes, df.images, df.target):\n",
        "    ax. set_axis_off()\n",
        "    ax. imshow(image, cmap=plt.cm.gray_r, interpolation = \"nearest\")\n",
        "    ax.set_title(\"Training: %i\" %label)\n"
      ],
      "metadata": {
        "colab": {
          "base_uri": "https://localhost:8080/",
          "height": 227
        },
        "id": "URNbjoe0NS2_",
        "outputId": "57d0a0a1-b24e-4d2a-9f34-3b08efd7dd40"
      },
      "execution_count": 43,
      "outputs": [
        {
          "output_type": "display_data",
          "data": {
            "text/plain": [
              "<Figure size 1000x300 with 4 Axes>"
            ],
            "image/png": "[encoded data removed]"
          },
          "metadata": {}
        }
      ]
    },
    {
      "cell_type": "code",
      "source": [
        "df.images.shape"
      ],
      "metadata": {
        "colab": {
          "base_uri": "https://localhost:8080/"
        },
        "id": "vQjMwzagQyGB",
        "outputId": "15f5c73f-f502-457b-cd3f-5d3f557f97c0"
      },
      "execution_count": 11,
      "outputs": [
        {
          "output_type": "execute_result",
          "data": {
            "text/plain": [
              "(1797, 8, 8)"
            ]
          },
          "metadata": {},
          "execution_count": 11
        }
      ]
    },
    {
      "cell_type": "code",
      "source": [
        "df.images[0]"
      ],
      "metadata": {
        "colab": {
          "base_uri": "https://localhost:8080/"
        },
        "id": "X2woeAaRQ2xb",
        "outputId": "25604836-7691-42bc-b7bf-31be45d10f9b"
      },
      "execution_count": 12,
      "outputs": [
        {
          "output_type": "execute_result",
          "data": {
            "text/plain": [
              "array([[ 0.,  0.,  5., 13.,  9.,  1.,  0.,  0.],\n",
              "       [ 0.,  0., 13., 15., 10., 15.,  5.,  0.],\n",
              "       [ 0.,  3., 15.,  2.,  0., 11.,  8.,  0.],\n",
              "       [ 0.,  4., 12.,  0.,  0.,  8.,  8.,  0.],\n",
              "       [ 0.,  5.,  8.,  0.,  0.,  9.,  8.,  0.],\n",
              "       [ 0.,  4., 11.,  0.,  1., 12.,  7.,  0.],\n",
              "       [ 0.,  2., 14.,  5., 10., 12.,  0.,  0.],\n",
              "       [ 0.,  0.,  6., 13., 10.,  0.,  0.,  0.]])"
            ]
          },
          "metadata": {},
          "execution_count": 12
        }
      ]
    },
    {
      "cell_type": "code",
      "source": [
        "df.images[0].shape"
      ],
      "metadata": {
        "colab": {
          "base_uri": "https://localhost:8080/"
        },
        "id": "ECk2qKOOQ7Q3",
        "outputId": "c3f7d94d-fe6e-46fc-fda1-fa542b9409d6"
      },
      "execution_count": 14,
      "outputs": [
        {
          "output_type": "execute_result",
          "data": {
            "text/plain": [
              "(8, 8)"
            ]
          },
          "metadata": {},
          "execution_count": 14
        }
      ]
    },
    {
      "cell_type": "code",
      "source": [
        "len(df.images)"
      ],
      "metadata": {
        "colab": {
          "base_uri": "https://localhost:8080/"
        },
        "id": "Y8Y8JSGGRIdf",
        "outputId": "f8f307ed-0fcf-4a88-8ada-10153d8f863a"
      },
      "execution_count": 15,
      "outputs": [
        {
          "output_type": "execute_result",
          "data": {
            "text/plain": [
              "1797"
            ]
          },
          "metadata": {},
          "execution_count": 15
        }
      ]
    },
    {
      "cell_type": "code",
      "source": [
        "n_samples=len(df.images)\n",
        "data=df.images.reshape((n_samples, -1))"
      ],
      "metadata": {
        "id": "XggTc7T8RMuO"
      },
      "execution_count": 18,
      "outputs": []
    },
    {
      "cell_type": "code",
      "source": [
        "data[0]"
      ],
      "metadata": {
        "colab": {
          "base_uri": "https://localhost:8080/"
        },
        "id": "TQXG3FgBRm7o",
        "outputId": "49209043-be28-455c-ff37-843bd9839903"
      },
      "execution_count": 19,
      "outputs": [
        {
          "output_type": "execute_result",
          "data": {
            "text/plain": [
              "array([ 0.,  0.,  5., 13.,  9.,  1.,  0.,  0.,  0.,  0., 13., 15., 10.,\n",
              "       15.,  5.,  0.,  0.,  3., 15.,  2.,  0., 11.,  8.,  0.,  0.,  4.,\n",
              "       12.,  0.,  0.,  8.,  8.,  0.,  0.,  5.,  8.,  0.,  0.,  9.,  8.,\n",
              "        0.,  0.,  4., 11.,  0.,  1., 12.,  7.,  0.,  0.,  2., 14.,  5.,\n",
              "       10., 12.,  0.,  0.,  0.,  0.,  6., 13., 10.,  0.,  0.,  0.])"
            ]
          },
          "metadata": {},
          "execution_count": 19
        }
      ]
    },
    {
      "cell_type": "code",
      "source": [
        "data[0].shape"
      ],
      "metadata": {
        "colab": {
          "base_uri": "https://localhost:8080/"
        },
        "id": "aOEVOLZcRv1o",
        "outputId": "c90c2fde-63bf-487b-a451-8e8f21e98b7c"
      },
      "execution_count": 20,
      "outputs": [
        {
          "output_type": "execute_result",
          "data": {
            "text/plain": [
              "(64,)"
            ]
          },
          "metadata": {},
          "execution_count": 20
        }
      ]
    },
    {
      "cell_type": "code",
      "source": [
        "data.shape"
      ],
      "metadata": {
        "colab": {
          "base_uri": "https://localhost:8080/"
        },
        "id": "L0Yuz6D2R0Y4",
        "outputId": "31851de6-85c3-4efe-8b7c-49b79fe77d13"
      },
      "execution_count": 21,
      "outputs": [
        {
          "output_type": "execute_result",
          "data": {
            "text/plain": [
              "(1797, 64)"
            ]
          },
          "metadata": {},
          "execution_count": 21
        }
      ]
    },
    {
      "cell_type": "markdown",
      "source": [
        "**Scaling image data**"
      ],
      "metadata": {
        "id": "UF1fiQBtSUCe"
      }
    },
    {
      "cell_type": "code",
      "source": [
        "data.min()\n"
      ],
      "metadata": {
        "colab": {
          "base_uri": "https://localhost:8080/"
        },
        "id": "kNJbvBNKSEz_",
        "outputId": "529abf94-dae0-450e-9b97-e1ceafc0588c"
      },
      "execution_count": 23,
      "outputs": [
        {
          "output_type": "execute_result",
          "data": {
            "text/plain": [
              "0.0"
            ]
          },
          "metadata": {},
          "execution_count": 23
        }
      ]
    },
    {
      "cell_type": "code",
      "source": [
        "data.max()"
      ],
      "metadata": {
        "colab": {
          "base_uri": "https://localhost:8080/"
        },
        "id": "k4cO0S_MSRDk",
        "outputId": "2b043be3-72cc-48bf-fc3a-f863c1e82105"
      },
      "execution_count": 24,
      "outputs": [
        {
          "output_type": "execute_result",
          "data": {
            "text/plain": [
              "16.0"
            ]
          },
          "metadata": {},
          "execution_count": 24
        }
      ]
    },
    {
      "cell_type": "code",
      "source": [
        "data=data/16"
      ],
      "metadata": {
        "id": "e8qE0vr8Se4i"
      },
      "execution_count": 25,
      "outputs": []
    },
    {
      "cell_type": "code",
      "source": [
        "data.min()"
      ],
      "metadata": {
        "colab": {
          "base_uri": "https://localhost:8080/"
        },
        "id": "2Udz84eQSjNN",
        "outputId": "67a68b63-eb59-47eb-b587-c87366c50b67"
      },
      "execution_count": 27,
      "outputs": [
        {
          "output_type": "execute_result",
          "data": {
            "text/plain": [
              "0.0"
            ]
          },
          "metadata": {},
          "execution_count": 27
        }
      ]
    },
    {
      "cell_type": "code",
      "source": [
        "data.max()"
      ],
      "metadata": {
        "colab": {
          "base_uri": "https://localhost:8080/"
        },
        "id": "S0iTLW9tU__j",
        "outputId": "7bef71fc-81d7-4aec-deb2-03bc193b59c3"
      },
      "execution_count": 44,
      "outputs": [
        {
          "output_type": "execute_result",
          "data": {
            "text/plain": [
              "1.0"
            ]
          },
          "metadata": {},
          "execution_count": 44
        }
      ]
    },
    {
      "cell_type": "code",
      "source": [
        "data[0]"
      ],
      "metadata": {
        "colab": {
          "base_uri": "https://localhost:8080/"
        },
        "id": "vjSy9hftVYw8",
        "outputId": "59ad9cb5-93b3-4430-8d00-1b5f4b1172f3"
      },
      "execution_count": 45,
      "outputs": [
        {
          "output_type": "execute_result",
          "data": {
            "text/plain": [
              "array([0.    , 0.    , 0.3125, 0.8125, 0.5625, 0.0625, 0.    , 0.    ,\n",
              "       0.    , 0.    , 0.8125, 0.9375, 0.625 , 0.9375, 0.3125, 0.    ,\n",
              "       0.    , 0.1875, 0.9375, 0.125 , 0.    , 0.6875, 0.5   , 0.    ,\n",
              "       0.    , 0.25  , 0.75  , 0.    , 0.    , 0.5   , 0.5   , 0.    ,\n",
              "       0.    , 0.3125, 0.5   , 0.    , 0.    , 0.5625, 0.5   , 0.    ,\n",
              "       0.    , 0.25  , 0.6875, 0.    , 0.0625, 0.75  , 0.4375, 0.    ,\n",
              "       0.    , 0.125 , 0.875 , 0.3125, 0.625 , 0.75  , 0.    , 0.    ,\n",
              "       0.    , 0.    , 0.375 , 0.8125, 0.625 , 0.    , 0.    , 0.    ])"
            ]
          },
          "metadata": {},
          "execution_count": 45
        }
      ]
    },
    {
      "cell_type": "markdown",
      "source": [
        "**Train test split data**"
      ],
      "metadata": {
        "id": "R_vkn_Q_VuYx"
      }
    },
    {
      "cell_type": "code",
      "source": [
        "from sklearn.model_selection import train_test_split\n"
      ],
      "metadata": {
        "id": "tMm-Y9yaWXuw"
      },
      "execution_count": 48,
      "outputs": []
    },
    {
      "cell_type": "code",
      "source": [
        "X_train, X_test, y_train, y_test = train_test_split(data, df.target, test_size=0.3)\n"
      ],
      "metadata": {
        "id": "0Tkgdtv3Wvk1"
      },
      "execution_count": 49,
      "outputs": []
    },
    {
      "cell_type": "code",
      "source": [
        "X_train.shape, X_test.shape, y_train.shape, y_test.shape"
      ],
      "metadata": {
        "colab": {
          "base_uri": "https://localhost:8080/"
        },
        "id": "Ui-EzVChW_xj",
        "outputId": "3e99473c-7134-4e99-8586-edbfee4c762c"
      },
      "execution_count": 50,
      "outputs": [
        {
          "output_type": "execute_result",
          "data": {
            "text/plain": [
              "((1257, 64), (540, 64), (1257,), (540,))"
            ]
          },
          "metadata": {},
          "execution_count": 50
        }
      ]
    },
    {
      "cell_type": "markdown",
      "source": [
        "**Random Forest Classifier**"
      ],
      "metadata": {
        "id": "PjfWVg0XXPEj"
      }
    },
    {
      "cell_type": "code",
      "source": [
        "from sklearn.ensemble import RandomForestClassifier"
      ],
      "metadata": {
        "id": "jP5yQ84lVde8"
      },
      "execution_count": 52,
      "outputs": []
    },
    {
      "cell_type": "code",
      "source": [
        "rf= RandomForestClassifier()"
      ],
      "metadata": {
        "id": "a0Lu6qCbWCyV"
      },
      "execution_count": 64,
      "outputs": []
    },
    {
      "cell_type": "code",
      "source": [
        "rf.fit(X_train, y_train)"
      ],
      "metadata": {
        "colab": {
          "base_uri": "https://localhost:8080/",
          "height": 51
        },
        "id": "lATdAt6AYvI7",
        "outputId": "7ace7d87-9478-4770-c647-89407f67a063"
      },
      "execution_count": 65,
      "outputs": [
        {
          "output_type": "execute_result",
          "data": {
            "text/plain": [
              "RandomForestClassifier()"
            ],
            "text/html": [
              "<style>#sk-container-id-1 {color: black;background-color: white;}#sk-container-id-1 pre{padding: 0;}#sk-container-id-1 div.sk-toggleable {background-color: white;}#sk-container-id-1 label.sk-toggleable__label {cursor: pointer;display: block;width: 100%;margin-bottom: 0;padding: 0.3em;box-sizing: border-box;text-align: center;}#sk-container-id-1 label.sk-toggleable__label-arrow:before {content: \"▸\";float: left;margin-right: 0.25em;color: #696969;}#sk-container-id-1 label.sk-toggleable__label-arrow:hover:before {color: black;}#sk-container-id-1 div.sk-estimator:hover label.sk-toggleable__label-arrow:before {color: black;}#sk-container-id-1 div.sk-toggleable__content {max-height: 0;max-width: 0;overflow: hidden;text-align: left;background-color: #f0f8ff;}#sk-container-id-1 div.sk-toggleable__content pre {margin: 0.2em;color: black;border-radius: 0.25em;background-color: #f0f8ff;}#sk-container-id-1 input.sk-toggleable__control:checked~div.sk-toggleable__content {max-height: 200px;max-width: 100%;overflow: auto;}#sk-container-id-1 input.sk-toggleable__control:checked~label.sk-toggleable__label-arrow:before {content: \"▾\";}#sk-container-id-1 div.sk-estimator input.sk-toggleable__control:checked~label.sk-toggleable__label {background-color: #d4ebff;}#sk-container-id-1 div.sk-label input.sk-toggleable__control:checked~label.sk-toggleable__label {background-color: #d4ebff;}#sk-container-id-1 input.sk-hidden--visually {border: 0;clip: rect(1px 1px 1px 1px);clip: rect(1px, 1px, 1px, 1px);height: 1px;margin: -1px;overflow: hidden;padding: 0;position: absolute;width: 1px;}#sk-container-id-1 div.sk-estimator {font-family: monospace;background-color: #f0f8ff;border: 1px dotted black;border-radius: 0.25em;box-sizing: border-box;margin-bottom: 0.5em;}#sk-container-id-1 div.sk-estimator:hover {background-color: #d4ebff;}#sk-container-id-1 div.sk-parallel-item::after {content: \"\";width: 100%;border-bottom: 1px solid gray;flex-grow: 1;}#sk-container-id-1 div.sk-label:hover label.sk-toggleable__label {background-color: #d4ebff;}#sk-container-id-1 div.sk-serial::before {content: \"\";position: absolute;border-left: 1px solid gray;box-sizing: border-box;top: 0;bottom: 0;left: 50%;z-index: 0;}#sk-container-id-1 div.sk-serial {display: flex;flex-direction: column;align-items: center;background-color: white;padding-right: 0.2em;padding-left: 0.2em;position: relative;}#sk-container-id-1 div.sk-item {position: relative;z-index: 1;}#sk-container-id-1 div.sk-parallel {display: flex;align-items: stretch;justify-content: center;background-color: white;position: relative;}#sk-container-id-1 div.sk-item::before, #sk-container-id-1 div.sk-parallel-item::before {content: \"\";position: absolute;border-left: 1px solid gray;box-sizing: border-box;top: 0;bottom: 0;left: 50%;z-index: -1;}#sk-container-id-1 div.sk-parallel-item {display: flex;flex-direction: column;z-index: 1;position: relative;background-color: white;}#sk-container-id-1 div.sk-parallel-item:first-child::after {align-self: flex-end;width: 50%;}#sk-container-id-1 div.sk-parallel-item:last-child::after {align-self: flex-start;width: 50%;}#sk-container-id-1 div.sk-parallel-item:only-child::after {width: 0;}#sk-container-id-1 div.sk-dashed-wrapped {border: 1px dashed gray;margin: 0 0.4em 0.5em 0.4em;box-sizing: border-box;padding-bottom: 0.4em;background-color: white;}#sk-container-id-1 div.sk-label label {font-family: monospace;font-weight: bold;display: inline-block;line-height: 1.2em;}#sk-container-id-1 div.sk-label-container {text-align: center;}#sk-container-id-1 div.sk-container {/* jupyter's `normalize.less` sets `[hidden] { display: none; }` but bootstrap.min.css set `[hidden] { display: none !important; }` so we also need the `!important` here to be able to override the default hidden behavior on the sphinx rendered scikit-learn.org. See: https://github.com/scikit-learn/scikit-learn/issues/21755 */display: inline-block !important;position: relative;}#sk-container-id-1 div.sk-text-repr-fallback {display: none;}</style><div id=\"sk-container-id-1\" class=\"sk-top-container\"><div class=\"sk-text-repr-fallback\"><pre>RandomForestClassifier()</pre><b>In a Jupyter environment, please rerun this cell to show the HTML representation or trust the notebook. <br />On GitHub, the HTML representation is unable to render, please try loading this page with nbviewer.org.</b></div><div class=\"sk-container\" hidden><div class=\"sk-item\"><div class=\"sk-estimator sk-toggleable\"><input class=\"sk-toggleable__control sk-hidden--visually\" id=\"sk-estimator-id-1\" type=\"checkbox\" checked><label for=\"sk-estimator-id-1\" class=\"sk-toggleable__label sk-toggleable__label-arrow\">RandomForestClassifier</label><div class=\"sk-toggleable__content\"><pre>RandomForestClassifier()</pre></div></div></div></div></div>"
            ]
          },
          "metadata": {},
          "execution_count": 65
        }
      ]
    },
    {
      "cell_type": "markdown",
      "source": [
        "**Predict Test Data**"
      ],
      "metadata": {
        "id": "qVwcKJ6-ZLod"
      }
    },
    {
      "cell_type": "code",
      "source": [
        "y_pred= rf.predict(X_test)"
      ],
      "metadata": {
        "id": "x65kPBlYZRxa"
      },
      "execution_count": 67,
      "outputs": []
    },
    {
      "cell_type": "code",
      "source": [
        "y_pred"
      ],
      "metadata": {
        "colab": {
          "base_uri": "https://localhost:8080/"
        },
        "id": "bownnNnbZiAJ",
        "outputId": "060a7996-be62-41cf-daf4-3db0c21054e3"
      },
      "execution_count": 68,
      "outputs": [
        {
          "output_type": "execute_result",
          "data": {
            "text/plain": [
              "array([3, 0, 3, 1, 5, 4, 5, 2, 3, 0, 5, 9, 1, 7, 9, 2, 1, 5, 5, 8, 6, 5,\n",
              "       4, 6, 4, 3, 7, 8, 8, 1, 7, 4, 8, 9, 6, 9, 1, 9, 2, 9, 2, 2, 1, 6,\n",
              "       1, 4, 2, 0, 5, 2, 7, 0, 7, 4, 9, 5, 3, 6, 2, 5, 4, 8, 7, 3, 2, 2,\n",
              "       8, 2, 1, 4, 5, 3, 8, 1, 2, 2, 5, 7, 2, 1, 6, 6, 8, 1, 0, 7, 6, 2,\n",
              "       7, 5, 5, 8, 5, 2, 9, 4, 8, 7, 2, 4, 3, 6, 3, 1, 4, 7, 4, 6, 1, 4,\n",
              "       6, 3, 5, 0, 6, 4, 4, 8, 4, 3, 5, 0, 9, 9, 6, 8, 4, 0, 4, 1, 1, 8,\n",
              "       6, 8, 3, 5, 8, 9, 3, 7, 7, 3, 6, 5, 5, 7, 4, 6, 4, 7, 1, 4, 3, 0,\n",
              "       2, 1, 0, 7, 9, 0, 7, 1, 0, 0, 4, 9, 5, 6, 0, 9, 3, 5, 5, 6, 3, 6,\n",
              "       9, 5, 9, 3, 4, 0, 5, 9, 4, 1, 8, 7, 0, 9, 5, 1, 6, 4, 3, 7, 1, 2,\n",
              "       3, 4, 7, 4, 4, 3, 4, 6, 5, 0, 4, 9, 5, 8, 3, 8, 1, 1, 5, 0, 9, 5,\n",
              "       1, 8, 5, 2, 6, 3, 1, 4, 2, 6, 5, 6, 0, 0, 2, 9, 1, 3, 5, 7, 5, 5,\n",
              "       0, 5, 4, 8, 4, 3, 3, 7, 7, 7, 0, 8, 2, 9, 1, 3, 3, 1, 3, 4, 1, 8,\n",
              "       6, 4, 8, 6, 8, 7, 6, 7, 4, 5, 2, 1, 1, 3, 8, 4, 5, 4, 6, 7, 8, 7,\n",
              "       2, 9, 2, 9, 1, 9, 6, 9, 6, 3, 8, 6, 7, 0, 1, 0, 7, 1, 7, 9, 1, 2,\n",
              "       3, 5, 9, 5, 8, 7, 5, 3, 5, 4, 5, 6, 1, 4, 5, 2, 0, 9, 4, 4, 3, 4,\n",
              "       1, 6, 6, 2, 8, 0, 0, 1, 2, 0, 3, 5, 7, 2, 9, 4, 9, 8, 7, 0, 0, 2,\n",
              "       3, 2, 5, 7, 1, 1, 8, 5, 7, 6, 1, 4, 5, 9, 8, 5, 9, 3, 3, 6, 0, 6,\n",
              "       2, 2, 8, 6, 9, 5, 8, 0, 2, 6, 3, 7, 4, 1, 8, 4, 4, 6, 9, 8, 9, 1,\n",
              "       9, 8, 4, 0, 9, 4, 5, 4, 7, 3, 0, 8, 0, 7, 1, 7, 2, 8, 8, 6, 1, 4,\n",
              "       8, 0, 7, 1, 5, 6, 8, 3, 8, 0, 1, 2, 0, 3, 9, 7, 1, 3, 0, 2, 7, 7,\n",
              "       5, 9, 8, 5, 0, 0, 3, 5, 7, 4, 2, 2, 8, 3, 0, 2, 3, 4, 7, 3, 5, 1,\n",
              "       7, 4, 1, 4, 9, 4, 4, 2, 1, 0, 1, 6, 4, 8, 2, 2, 0, 9, 0, 4, 2, 4,\n",
              "       8, 5, 5, 6, 0, 0, 9, 0, 5, 4, 8, 9, 7, 1, 6, 0, 7, 8, 1, 3, 6, 9,\n",
              "       4, 9, 3, 9, 8, 7, 9, 3, 8, 8, 0, 5, 2, 5, 0, 6, 7, 9, 0, 4, 7, 8,\n",
              "       2, 2, 4, 1, 2, 3, 2, 5, 9, 3, 9, 0])"
            ]
          },
          "metadata": {},
          "execution_count": 68
        }
      ]
    },
    {
      "cell_type": "markdown",
      "source": [
        "**Model Accuracy**"
      ],
      "metadata": {
        "id": "e75fjgedZr3o"
      }
    },
    {
      "cell_type": "code",
      "source": [
        "from sklearn.metrics import confusion_matrix , classification_report"
      ],
      "metadata": {
        "id": "cKpgYNWdZxoV"
      },
      "execution_count": 69,
      "outputs": []
    },
    {
      "cell_type": "code",
      "source": [
        "confusion_matrix(y_test, y_pred)"
      ],
      "metadata": {
        "colab": {
          "base_uri": "https://localhost:8080/"
        },
        "id": "UeoWgSB7aLe6",
        "outputId": "81b5430b-cc6b-4ba0-9950-3664f9b85d7c"
      },
      "execution_count": 71,
      "outputs": [
        {
          "output_type": "execute_result",
          "data": {
            "text/plain": [
              "array([[53,  0,  0,  0,  0,  0,  0,  0,  0,  0],\n",
              "       [ 0, 55,  0,  0,  0,  0,  0,  0,  0,  0],\n",
              "       [ 0,  0, 51,  0,  0,  0,  0,  0,  0,  0],\n",
              "       [ 0,  0,  0, 51,  0,  0,  0,  1,  2,  0],\n",
              "       [ 0,  0,  0,  0, 64,  0,  0,  2,  0,  0],\n",
              "       [ 0,  0,  0,  1,  0, 61,  0,  0,  0,  1],\n",
              "       [ 0,  0,  0,  0,  0,  0, 47,  0,  1,  0],\n",
              "       [ 0,  0,  0,  0,  1,  0,  0, 46,  0,  0],\n",
              "       [ 0,  0,  0,  0,  0,  0,  0,  2, 50,  0],\n",
              "       [ 0,  0,  0,  0,  0,  0,  0,  1,  0, 50]])"
            ]
          },
          "metadata": {},
          "execution_count": 71
        }
      ]
    },
    {
      "cell_type": "code",
      "source": [
        "print(classification_report(y_test, y_pred))"
      ],
      "metadata": {
        "colab": {
          "base_uri": "https://localhost:8080/"
        },
        "id": "G7pjfjK4aUaV",
        "outputId": "1b4a993c-ae98-4e54-8ef4-c42d23049a20"
      },
      "execution_count": 72,
      "outputs": [
        {
          "output_type": "stream",
          "name": "stdout",
          "text": [
            "              precision    recall  f1-score   support\n",
            "\n",
            "           0       1.00      1.00      1.00        53\n",
            "           1       1.00      1.00      1.00        55\n",
            "           2       1.00      1.00      1.00        51\n",
            "           3       0.98      0.94      0.96        54\n",
            "           4       0.98      0.97      0.98        66\n",
            "           5       1.00      0.97      0.98        63\n",
            "           6       1.00      0.98      0.99        48\n",
            "           7       0.88      0.98      0.93        47\n",
            "           8       0.94      0.96      0.95        52\n",
            "           9       0.98      0.98      0.98        51\n",
            "\n",
            "    accuracy                           0.98       540\n",
            "   macro avg       0.98      0.98      0.98       540\n",
            "weighted avg       0.98      0.98      0.98       540\n",
            "\n"
          ]
        }
      ]
    },
    {
      "cell_type": "markdown",
      "source": [
        "**Data Visualisation**\n"
      ],
      "metadata": {
        "id": "T8kgWT04cih8"
      }
    },
    {
      "cell_type": "code",
      "source": [
        "data = {\n",
        "    'Class': [0, 1, 2, 3, 4, 5, 6, 7, 8, 9],\n",
        "    'Precision': [1.00, 1.00, 1.00, 0.98, 0.98, 1.00, 1.00, 0.88, 0.94, 0.98],\n",
        "    'Recall': [1.00, 1.00, 1.00, 0.94, 0.97, 0.97, 0.98, 0.98, 0.96, 0.98],\n",
        "    'F1-score': [1.00, 1.00, 1.00, 0.96, 0.98, 0.98, 0.99, 0.93, 0.95, 0.98]\n",
        "}"
      ],
      "metadata": {
        "id": "2ryzfv4EbOf2"
      },
      "execution_count": 74,
      "outputs": []
    },
    {
      "cell_type": "code",
      "source": [
        "daf = pd.DataFrame(data)"
      ],
      "metadata": {
        "id": "7vlOCyvBbXVk"
      },
      "execution_count": 75,
      "outputs": []
    },
    {
      "cell_type": "code",
      "source": [
        "daf.set_index('Class', inplace=True)"
      ],
      "metadata": {
        "id": "7COAhFg5bZsR"
      },
      "execution_count": 76,
      "outputs": []
    },
    {
      "cell_type": "code",
      "source": [
        "sns.heatmap(daf, annot=True, cmap='Blues', fmt='.2f')"
      ],
      "metadata": {
        "colab": {
          "base_uri": "https://localhost:8080/",
          "height": 452
        },
        "id": "ZRC70iXEbg9d",
        "outputId": "39883da2-c1ab-4342-abd9-acc495af19c8"
      },
      "execution_count": 80,
      "outputs": [
        {
          "output_type": "execute_result",
          "data": {
            "text/plain": [
              "<Axes: ylabel='Class'>"
            ]
          },
          "metadata": {},
          "execution_count": 80
        },
        {
          "output_type": "display_data",
          "data": {
            "text/plain": [
              "<Figure size 640x480 with 2 Axes>"
            ],
            "image/png": "[encoded data removed]"
          },
          "metadata": {}
        }
      ]
    }
  ]
}